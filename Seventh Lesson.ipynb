{
 "cells": [
  {
   "cell_type": "code",
   "execution_count": 24,
   "metadata": {},
   "outputs": [],
   "source": [
    "import random as r"
   ]
  },
  {
   "cell_type": "code",
   "execution_count": 36,
   "metadata": {},
   "outputs": [],
   "source": [
    "cpu = ['rock','scissors','paper']"
   ]
  },
  {
   "cell_type": "code",
   "execution_count": 26,
   "metadata": {},
   "outputs": [
    {
     "name": "stdout",
     "output_type": "stream",
     "text": [
      "papers\n"
     ]
    }
   ],
   "source": [
    "print(cpu_choice)"
   ]
  },
  {
   "cell_type": "markdown",
   "metadata": {},
   "source": [
    "rock - scissors\n",
    "\n",
    "scissors- rock\n",
    "\n",
    "\n",
    "\n",
    "\n",
    "\n",
    "\n",
    "\n",
    "scissors - paper\n",
    "\n",
    "\n"
   ]
  },
  {
   "cell_type": "code",
   "execution_count": 37,
   "metadata": {},
   "outputs": [
    {
     "name": "stdout",
     "output_type": "stream",
     "text": [
      "Your turn: paper\n",
      "IT'S A TIE!\n"
     ]
    }
   ],
   "source": [
    "my_turn = input(\"Your turn: \")\n",
    "cpu_choice = r.choice(cpu)\n",
    "if my_turn == cpu_choice:\n",
    "    print(\"IT'S A TIE!\")\n",
    "elif my_turn == \"paper\" and cpu_choice == \"rock\":\n",
    "    print(\"YOU WIN!\")\n",
    "elif my_turn == \"paper\" and cpu_choice == \"scissor\":\n",
    "    print(\"YOU LOSE!\")\n",
    "elif my_turn == \"rock\" and cpu_choice == \"paper\":\n",
    "    print(\"YOU LOSE!\")\n",
    "elif my_turn == \"rock\" and cpu_choice == \"scissors\":\n",
    "    print(\"YOU WIN!\")\n",
    "elif my_turn == \"scissors\" and cpu_choice == \"paper\":\n",
    "    print(\"YOU WIN!\")\n",
    "elif my_turn == \"scissors\" and cpu_choice == \"rock\":\n",
    "    print(\"YOU LOSE!\")"
   ]
  },
  {
   "cell_type": "code",
   "execution_count": null,
   "metadata": {},
   "outputs": [],
   "source": []
  }
 ],
 "metadata": {
  "kernelspec": {
   "display_name": "Python 3",
   "language": "python",
   "name": "python3"
  },
  "language_info": {
   "codemirror_mode": {
    "name": "ipython",
    "version": 3
   },
   "file_extension": ".py",
   "mimetype": "text/x-python",
   "name": "python",
   "nbconvert_exporter": "python",
   "pygments_lexer": "ipython3",
   "version": "3.7.6"
  }
 },
 "nbformat": 4,
 "nbformat_minor": 4
}
